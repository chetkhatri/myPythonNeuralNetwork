{
 "cells": [
  {
   "cell_type": "code",
   "execution_count": 2,
   "metadata": {
    "collapsed": true
   },
   "outputs": [],
   "source": [
    "# Pre-requisites\n",
    "import numpy as np\n",
    "import time\n",
    "\n",
    "# For plots\n",
    "%matplotlib inline\n",
    "import matplotlib.pyplot as plt\n",
    "\n",
    "# To clear print buffer\n",
    "from IPython.display import clear_output"
   ]
  },
  {
   "cell_type": "markdown",
   "metadata": {},
   "source": [
    "# Importing functions from the previous tutorials:"
   ]
  },
  {
   "cell_type": "code",
   "execution_count": 3,
   "metadata": {},
   "outputs": [
    {
     "name": "stdout",
     "output_type": "stream",
     "text": [
      "weights:\n",
      "1\n",
      "(2, 3)\n",
      "[[-0.33589735 -0.396816    0.45849862]\n",
      " [-0.64374374 -2.41279823  0.78403628]]\n",
      "2\n",
      "(1, 3)\n",
      "[[ 1.54182154 -0.12516091 -0.28203429]]\n"
     ]
    }
   ],
   "source": [
    "# Initializing weight matrices from layer sizes\n",
    "def initializeWeights(layers):\n",
    "    weights = [np.random.randn(o, i+1) for i, o in zip(layers[:-1], layers[1:])]\n",
    "    return weights\n",
    "\n",
    "# Add a bias term to every data point in the input\n",
    "def addBiasTerms(X):\n",
    "        # Make the input an np.array()\n",
    "        X = np.array(X)\n",
    "        \n",
    "        # Forcing 1D vectors to be 2D matrices of 1xlength dimensions\n",
    "        if X.ndim==1:\n",
    "            X = np.reshape(X, (1, len(X)))\n",
    "        \n",
    "        # Inserting bias terms\n",
    "        X = np.insert(X, 0, 1, axis=1)\n",
    "        \n",
    "        return X\n",
    "\n",
    "# Sigmoid function\n",
    "def sigmoid(a):\n",
    "    return 1/(1 + np.exp(-a))\n",
    "\n",
    "# Forward Propagation of outputs\n",
    "def forwardProp(X, weights):\n",
    "    # Initializing an empty list of outputs\n",
    "    outputs = []\n",
    "    \n",
    "    # Assigning a name to reuse as inputs\n",
    "    inputs = X\n",
    "    \n",
    "    # For each layer\n",
    "    for w in weights:\n",
    "        # Add bias term to input\n",
    "        inputs = addBiasTerms(inputs)\n",
    "        \n",
    "        # Y = Sigmoid ( X .* W^T )\n",
    "        outputs.append(sigmoid(np.dot(inputs, w.T)))\n",
    "        \n",
    "        # Input of next layer is output of this layer\n",
    "        inputs = outputs[-1]\n",
    "        \n",
    "    return outputs\n",
    "\n",
    "# Compute COST (J) of Neural Network\n",
    "def nnCost(weights, X, Y):\n",
    "    # Calculate yPred\n",
    "    yPred = forwardProp(X, weights)[-1]\n",
    "    \n",
    "    # Compute J\n",
    "    J = 0.5*np.sum((yPred-Y)**2)/len(Y)\n",
    "    \n",
    "    return J\n",
    "\n",
    "# IMPLEMENTING BACK-PROPAGATION WITH LEARNING RATE\n",
    "# Added eta, the learning rate, as an input\n",
    "def backProp(weights, X, Y, learningRate):\n",
    "    # Forward propagate to find outputs\n",
    "    outputs = forwardProp(X, weights)\n",
    "    \n",
    "    # For the last layer, bpError = error = yPred - Y\n",
    "    bpError = outputs[-1] - Y\n",
    "    \n",
    "    # Back-propagating from the last layer to the first\n",
    "    for l, w in enumerate(reversed(weights)):\n",
    "        \n",
    "        # Find yPred for this layer\n",
    "        yPred = outputs[-l-1]\n",
    "        \n",
    "        # Calculate delta for this layer using bpError from next layer\n",
    "        delta = np.multiply(np.multiply(bpError, yPred), 1-yPred)\n",
    "        \n",
    "        # Find input to the layer, by adding bias to the output of the previous layer\n",
    "        # Take care, l goes from 0 to 1, while the weights are in reverse order\n",
    "        if l==len(weights)-1: # If 1st layer has been reached\n",
    "            xL = addBiasTerms(X)\n",
    "        else:\n",
    "            xL = addBiasTerms(outputs[-l-2])\n",
    "        \n",
    "        # Calculate deltaW for this layer\n",
    "        deltaW = -np.dot(delta.T, xL)/len(Y)\n",
    "        \n",
    "        # Calculate bpError for previous layer to be back-propagated\n",
    "        bpError = np.dot(delta, w)\n",
    "        \n",
    "        # Ignore bias term in bpError\n",
    "        bpError = bpError[:,1:]\n",
    "        \n",
    "        # Change weights of the current layer (W <- W + eta*deltaW)\n",
    "        w += learningRate*deltaW\n",
    "\n",
    "# Evaluate the accuracy of weights for input X and desired outptut Y\n",
    "def evaluate(weights, X, Y):\n",
    "    yPreds = forwardProp(X, weights)[-1]\n",
    "    # Check if maximum probability is from that neuron corresponding to desired class,\n",
    "    # AND check if that maximum probability is greater than 0.5\n",
    "    yes = sum( int( ( np.argmax(yPreds[i]) == np.argmax(Y[i]) ) and \n",
    "                    ( (yPreds[i][np.argmax(yPreds[i])]>0.5) == (Y[i][np.argmax(Y[i])]>0.5) ) )\n",
    "              for i in range(len(Y)) )\n",
    "    print(str(yes)+\" out of \"+str(len(Y))+\" : \"+str(float(yes/len(Y))))\n",
    "\n",
    "# Initialize network\n",
    "layers = [2, 2, 1]\n",
    "weights = initializeWeights(layers)\n",
    "\n",
    "print(\"weights:\")\n",
    "for i in range(len(weights)):\n",
    "    print(i+1); print(weights[i].shape); print(weights[i])\n",
    "\n",
    "# Declare input and desired output for AND gate\n",
    "X = np.array([[0,0], [0,1], [1,0], [1,1]])\n",
    "Y = np.array([[0], [0], [0], [1]])"
   ]
  },
  {
   "cell_type": "markdown",
   "metadata": {},
   "source": [
    "# Batch Gradient Descent\n",
    "\n",
    "Batch Gradient Descent is how we have tried to train our network so far - give it ALL the data points, compute ${\\Delta}W$s by summing up quantities across ALL the data points, change all the weights once, Repeat."
   ]
  },
  {
   "cell_type": "markdown",
   "metadata": {},
   "source": [
    "Suppose we want to train our 3-neuron network to implement Logical XOR.\n",
    "\n",
    "Inputs are: $X=\\left[\\begin{array}{c}(0,0)\\\\(0,1)\\\\(1,0)\\\\(1,1)\\end{array}\\right]$, and the desired output is $Y=\\left[\\begin{array}{c}0\\\\1\\\\1\\\\0\\end{array}\\right]$."
   ]
  },
  {
   "cell_type": "markdown",
   "metadata": {},
   "source": [
    "We know that in order to train the network, we need to call backProp repeatedly. Let us use a function to do that."
   ]
  },
  {
   "cell_type": "code",
   "execution_count": 4,
   "metadata": {
    "collapsed": true
   },
   "outputs": [],
   "source": [
    "# TRAINING FUNCTION, USING GD\n",
    "def train(weights, X, Y, nIterations, learningRate=1):\n",
    "    for i in range(nIterations):\n",
    "        # Run backprop\n",
    "        backProp(weights, X, Y, learningRate)\n",
    "        \n",
    "        # Clears screen output\n",
    "        if (i+1)%(nIterations/10)==0:\n",
    "            clear_output()\n",
    "            print(\"Iteration \"+str(i+1)+\" of \"+str(nIterations))\n",
    "            # Prints Cost and Accuracy\n",
    "            print(\"Cost: \"+str(nnCost(weights, X, Y)))\n",
    "            print(\"Accuracy:\")\n",
    "            evaluate(weights, X, Y)"
   ]
  },
  {
   "cell_type": "code",
   "execution_count": 5,
   "metadata": {},
   "outputs": [
    {
     "name": "stdout",
     "output_type": "stream",
     "text": [
      "weights:\n",
      "1\n",
      "(2, 3)\n",
      "[[ 0.04837515  0.26989845 -0.24049688]\n",
      " [ 0.40457749 -1.12764482  1.62391936]]\n",
      "2\n",
      "(1, 3)\n",
      "[[-0.21690785 -0.77508326  0.61363791]]\n"
     ]
    }
   ],
   "source": [
    "# Initialize network\n",
    "layers = [2, 2, 1]\n",
    "weights = initializeWeights(layers)\n",
    "\n",
    "print(\"weights:\")\n",
    "for i in range(len(weights)):\n",
    "    print(i+1); print(weights[i].shape); print(weights[i])\n",
    "\n",
    "# Take backup of weights to be used later for comparison\n",
    "initialWeights = [np.array(w) for w in weights]"
   ]
  },
  {
   "cell_type": "code",
   "execution_count": 6,
   "metadata": {
    "collapsed": true
   },
   "outputs": [],
   "source": [
    "# Declare input and desired output for XOR gate\n",
    "X = np.array([[0,0], [0,1], [1,0], [1,1]])\n",
    "Y = np.array([[0], [1], [1], [0]])"
   ]
  },
  {
   "cell_type": "code",
   "execution_count": 7,
   "metadata": {},
   "outputs": [
    {
     "name": "stdout",
     "output_type": "stream",
     "text": [
      "Cost: 0.12907524705\n",
      "Accuracy: \n",
      "2 out of 4 : 0.5\n",
      "[[ 0.43886508]\n",
      " [ 0.49374299]\n",
      " [ 0.38577198]\n",
      " [ 0.4543426 ]]\n"
     ]
    }
   ],
   "source": [
    "# Check current accuracy and cost\n",
    "print(\"Cost: \"+str(nnCost(weights, X, Y)))\n",
    "print(\"Accuracy: \")\n",
    "evaluate(weights, X, Y)\n",
    "print(forwardProp(X, weights)[-1])"
   ]
  },
  {
   "cell_type": "markdown",
   "metadata": {},
   "source": [
    "Say we want to train our model 600 times."
   ]
  },
  {
   "cell_type": "code",
   "execution_count": 8,
   "metadata": {},
   "outputs": [
    {
     "name": "stdout",
     "output_type": "stream",
     "text": [
      "Iteration 400 of 400\n",
      "Cost: 0.124997811474\n",
      "Accuracy:\n",
      "3 out of 4 : 0.75\n",
      "[[ 0.49895486]\n",
      " [ 0.50338071]\n",
      " [ 0.49407386]\n",
      " [ 0.4984321 ]]\n"
     ]
    }
   ],
   "source": [
    "nIterations = 400\n",
    "train(weights, X, Y, nIterations)\n",
    "print(forwardProp(X, weights)[-1])"
   ]
  },
  {
   "cell_type": "code",
   "execution_count": 9,
   "metadata": {
    "collapsed": true
   },
   "outputs": [],
   "source": [
    "# In case we want to revert the weight back\n",
    "weights = [np.array(w) for w in initialWeights]"
   ]
  },
  {
   "cell_type": "markdown",
   "metadata": {},
   "source": [
    "It took our function a long time to train.\n",
    "\n",
    "What if we speed up using adaptive learning rate?"
   ]
  },
  {
   "cell_type": "code",
   "execution_count": 10,
   "metadata": {
    "collapsed": true
   },
   "outputs": [],
   "source": [
    "# TRAINING FUNCTION, USING GD\n",
    "# Default learning rate = 1.0\n",
    "def trainUsingGD(weights, X, Y, nIterations, learningRate=1.0):\n",
    "    # Setting initial cost to infinity\n",
    "    prevCost = np.inf\n",
    "    \n",
    "    # For nIterations number of iterations:\n",
    "    for i in range(nIterations):\n",
    "        # Run backprop\n",
    "        backProp(weights, X, Y, learningRate)\n",
    "        \n",
    "        #clear_output()\n",
    "        print(\"Iteration \"+str(i+1)+\" of \"+str(nIterations))\n",
    "        cost = nnCost(weights, X, Y)\n",
    "        print(\"Cost: \"+str(cost))\n",
    "        \n",
    "        # ADAPT LEARNING RATE\n",
    "        # If cost increases\n",
    "        if (cost > prevCost):\n",
    "            # Halve the learning rate\n",
    "            learningRate /= 2.0\n",
    "        # If cost decreases\n",
    "        else:\n",
    "            # Increase learning rate by 5%\n",
    "            learningRate *= 1.05\n",
    "        \n",
    "        prevCost = cost"
   ]
  },
  {
   "cell_type": "code",
   "execution_count": 11,
   "metadata": {
    "collapsed": true
   },
   "outputs": [],
   "source": [
    "# Revert weights back to initial values\n",
    "weights = [np.array(w) for w in initialWeights]"
   ]
  },
  {
   "cell_type": "code",
   "execution_count": 12,
   "metadata": {},
   "outputs": [
    {
     "name": "stdout",
     "output_type": "stream",
     "text": [
      "Iteration 1 of 100\n",
      "Cost: 0.128848112614\n",
      "Iteration 2 of 100\n",
      "Cost: 0.128650869728\n",
      "Iteration 3 of 100\n",
      "Cost: 0.12848026395\n",
      "Iteration 4 of 100\n",
      "Cost: 0.128332996448\n",
      "Iteration 5 of 100\n",
      "Cost: 0.128205816336\n",
      "Iteration 6 of 100\n",
      "Cost: 0.128095601033\n",
      "Iteration 7 of 100\n",
      "Cost: 0.127999422128\n",
      "Iteration 8 of 100\n",
      "Cost: 0.12791459536\n",
      "Iteration 9 of 100\n",
      "Cost: 0.127838714376\n",
      "Iteration 10 of 100\n",
      "Cost: 0.12776966891\n",
      "Iteration 11 of 100\n",
      "Cost: 0.127705648793\n",
      "Iteration 12 of 100\n",
      "Cost: 0.127645135859\n",
      "Iteration 13 of 100\n",
      "Cost: 0.127586886153\n",
      "Iteration 14 of 100\n",
      "Cost: 0.127529905081\n",
      "Iteration 15 of 100\n",
      "Cost: 0.127473418103\n",
      "Iteration 16 of 100\n",
      "Cost: 0.127416839401\n",
      "Iteration 17 of 100\n",
      "Cost: 0.127359740627\n",
      "Iteration 18 of 100\n",
      "Cost: 0.127301821408\n",
      "Iteration 19 of 100\n",
      "Cost: 0.127242882839\n",
      "Iteration 20 of 100\n",
      "Cost: 0.127182804686\n",
      "Iteration 21 of 100\n",
      "Cost: 0.127121526616\n",
      "Iteration 22 of 100\n",
      "Cost: 0.127059033379\n",
      "Iteration 23 of 100\n",
      "Cost: 0.126995343612\n",
      "Iteration 24 of 100\n",
      "Cost: 0.126930501761\n",
      "Iteration 25 of 100\n",
      "Cost: 0.126864572508\n",
      "Iteration 26 of 100\n",
      "Cost: 0.126797637148\n",
      "Iteration 27 of 100\n",
      "Cost: 0.126729791334\n",
      "Iteration 28 of 100\n",
      "Cost: 0.126661143778\n",
      "Iteration 29 of 100\n",
      "Cost: 0.126591815524\n",
      "Iteration 30 of 100\n",
      "Cost: 0.126521939537\n",
      "Iteration 31 of 100\n",
      "Cost: 0.126451660431\n",
      "Iteration 32 of 100\n",
      "Cost: 0.126381134199\n",
      "Iteration 33 of 100\n",
      "Cost: 0.126310527861\n",
      "Iteration 34 of 100\n",
      "Cost: 0.126240018977\n",
      "Iteration 35 of 100\n",
      "Cost: 0.126169794983\n",
      "Iteration 36 of 100\n",
      "Cost: 0.126100052304\n",
      "Iteration 37 of 100\n",
      "Cost: 0.126030995231\n",
      "Iteration 38 of 100\n",
      "Cost: 0.125962834522\n",
      "Iteration 39 of 100\n",
      "Cost: 0.125895785707\n",
      "Iteration 40 of 100\n",
      "Cost: 0.12583006709\n",
      "Iteration 41 of 100\n",
      "Cost: 0.125765897414\n",
      "Iteration 42 of 100\n",
      "Cost: 0.125703493213\n",
      "Iteration 43 of 100\n",
      "Cost: 0.125643065835\n",
      "Iteration 44 of 100\n",
      "Cost: 0.12558481818\n",
      "Iteration 45 of 100\n",
      "Cost: 0.125528941182\n",
      "Iteration 46 of 100\n",
      "Cost: 0.125475610101\n",
      "Iteration 47 of 100\n",
      "Cost: 0.125424980703\n",
      "Iteration 48 of 100\n",
      "Cost: 0.125377185428\n",
      "Iteration 49 of 100\n",
      "Cost: 0.12533232967\n",
      "Iteration 50 of 100\n",
      "Cost: 0.125290488278\n",
      "Iteration 51 of 100\n",
      "Cost: 0.125251702426\n",
      "Iteration 52 of 100\n",
      "Cost: 0.125215976974\n",
      "Iteration 53 of 100\n",
      "Cost: 0.125183278403\n",
      "Iteration 54 of 100\n",
      "Cost: 0.125153533406\n",
      "Iteration 55 of 100\n",
      "Cost: 0.125126628143\n",
      "Iteration 56 of 100\n",
      "Cost: 0.125102408083\n",
      "Iteration 57 of 100\n",
      "Cost: 0.125080678309\n",
      "Iteration 58 of 100\n",
      "Cost: 0.125061203999\n",
      "Iteration 59 of 100\n",
      "Cost: 0.125043710737\n",
      "Iteration 60 of 100\n",
      "Cost: 0.125027884097\n",
      "Iteration 61 of 100\n",
      "Cost: 0.125013367839\n",
      "Iteration 62 of 100\n",
      "Cost: 0.124999759817\n",
      "Iteration 63 of 100\n",
      "Cost: 0.124986604465\n",
      "Iteration 64 of 100\n",
      "Cost: 0.12497338044\n",
      "Iteration 65 of 100\n",
      "Cost: 0.124959481574\n",
      "Iteration 66 of 100\n",
      "Cost: 0.124944188837\n",
      "Iteration 67 of 100\n",
      "Cost: 0.12492663033\n",
      "Iteration 68 of 100\n",
      "Cost: 0.124905725647\n",
      "Iteration 69 of 100\n",
      "Cost: 0.124880110131\n",
      "Iteration 70 of 100\n",
      "Cost: 0.124848033934\n",
      "Iteration 71 of 100\n",
      "Cost: 0.124807230659\n",
      "Iteration 72 of 100\n",
      "Cost: 0.124754751262\n",
      "Iteration 73 of 100\n",
      "Cost: 0.124686761318\n",
      "Iteration 74 of 100\n",
      "Cost: 0.124598303179\n",
      "Iteration 75 of 100\n",
      "Cost: 0.124483025338\n",
      "Iteration 76 of 100\n",
      "Cost: 0.12433286859\n",
      "Iteration 77 of 100\n",
      "Cost: 0.124137651121\n",
      "Iteration 78 of 100\n",
      "Cost: 0.123884387194\n",
      "Iteration 79 of 100\n",
      "Cost: 0.123556010954\n",
      "Iteration 80 of 100\n",
      "Cost: 0.123129051477\n",
      "Iteration 81 of 100\n",
      "Cost: 0.122569925578\n",
      "Iteration 82 of 100\n",
      "Cost: 0.121830095196\n",
      "Iteration 83 of 100\n",
      "Cost: 0.120841446193\n",
      "Iteration 84 of 100\n",
      "Cost: 0.119514949723\n",
      "Iteration 85 of 100\n",
      "Cost: 0.117748246786\n",
      "Iteration 86 of 100\n",
      "Cost: 0.115450497266\n",
      "Iteration 87 of 100\n",
      "Cost: 0.112589941634\n",
      "Iteration 88 of 100\n",
      "Cost: 0.109249438151\n",
      "Iteration 89 of 100\n",
      "Cost: 0.105640175411\n",
      "Iteration 90 of 100\n",
      "Cost: 0.102027696196\n",
      "Iteration 91 of 100\n",
      "Cost: 0.0990064970213\n",
      "Iteration 92 of 100\n",
      "Cost: 0.123641875887\n",
      "Iteration 93 of 100\n",
      "Cost: 0.206124967964\n",
      "Iteration 94 of 100\n",
      "Cost: 0.128853866919\n",
      "Iteration 95 of 100\n",
      "Cost: 0.100914621849\n",
      "Iteration 96 of 100\n",
      "Cost: 0.0954172210932\n",
      "Iteration 97 of 100\n",
      "Cost: 0.0925797728969\n",
      "Iteration 98 of 100\n",
      "Cost: 0.0909633907318\n",
      "Iteration 99 of 100\n",
      "Cost: 0.0897659003613\n",
      "Iteration 100 of 100\n",
      "Cost: 0.0886726139317\n"
     ]
    }
   ],
   "source": [
    "# Train for nIterations\n",
    "# Don't expect same results for running with 20 iterations\n",
    "# as with running twice with 10 iterations - learning rates are different!\n",
    "nIterations = 100\n",
    "trainUsingGD(weights, X, Y, nIterations)"
   ]
  },
  {
   "cell_type": "markdown",
   "metadata": {},
   "source": [
    "We see that with adaptive learning rate, we reach the desired output much faster!"
   ]
  },
  {
   "cell_type": "markdown",
   "metadata": {},
   "source": [
    "# MNIST Dataset\n",
    "\n",
    "MNIST is a dataset of 60000 images of hand-written numbers."
   ]
  },
  {
   "cell_type": "code",
   "execution_count": 13,
   "metadata": {
    "collapsed": true
   },
   "outputs": [],
   "source": [
    "# Load MNIST DATA\n",
    "# Use numpy.load() to load the .npz file\n",
    "f = np.load('mnist.npz')\n",
    "# Saving the files\n",
    "x_train = f['x_train']\n",
    "y_train = f['y_train']\n",
    "x_test = f['x_test']\n",
    "y_test = f['y_test']\n",
    "f.close()"
   ]
  },
  {
   "cell_type": "code",
   "execution_count": 14,
   "metadata": {},
   "outputs": [
    {
     "name": "stdout",
     "output_type": "stream",
     "text": [
      "x_train.shape = (60000, 28, 28)\n",
      "y_train.shape = (60000,)\n"
     ]
    },
    {
     "data": {
      "image/png": "[encoded data removed]",
      "text/plain": [
       "<matplotlib.figure.Figure at 0x10bdc67f0>"
      ]
     },
     "metadata": {},
     "output_type": "display_data"
    }
   ],
   "source": [
    "# To check MNIST data\n",
    "print(\"x_train.shape = \"+str(x_train.shape))\n",
    "print(\"y_train.shape = \"+str(y_train.shape))\n",
    "fig = plt.figure(figsize=(10, 2))\n",
    "for i in range(20):\n",
    "    ax1 = fig.add_subplot(2, 10, i+1)\n",
    "    ax1.imshow(x_train[i], cmap='gray');\n",
    "    ax1.axis('off')"
   ]
  },
  {
   "cell_type": "markdown",
   "metadata": {},
   "source": [
    "(In supervised learning) Every (good) dataset consists of a training set and a test set.\n",
    "\n",
    "The training data set consists of data points and their desired outputs.\n",
    "\n",
    "In this case, the data points are grayscale images of hand-written numbers, and their desired outputs are the numbers that have been drawn.\n",
    "\n",
    "The test data set consists of data points whose outputs need to be found."
   ]
  },
  {
   "cell_type": "markdown",
   "metadata": {},
   "source": [
    "Let us implement the following neural network to classify MNIST data:\n",
    "<center>![MNIST NN](images/digitsNN.png)"
   ]
  },
  {
   "cell_type": "markdown",
   "metadata": {},
   "source": [
    "## Initialize network\n",
    "\n",
    "MNIST dataset has images of size 28x28. So the input layer to our network must have $28*28=784$ neurons.\n",
    "\n",
    "Since we are tring to classify whether the image is that of 0 or 1 or 2 ... or 9, we need to have 10 output neurons, each catering to the probability of one number among 0-9.\n",
    "\n",
    "Let our hidden layer (as shown in the diagram) have 15 neurons."
   ]
  },
  {
   "cell_type": "markdown",
   "metadata": {},
   "source": [
    "Before initializing the network though, let's ensure our inputs and outputs are appropriate for the task at hand."
   ]
  },
  {
   "cell_type": "markdown",
   "metadata": {},
   "source": [
    "## Are our inputs in the right format and shape?\n",
    "\n",
    "Remember that we give inputs as np.arrays of $n{\\times}784$ dimensions, $n$ being the number of data points we want to input to the network."
   ]
  },
  {
   "cell_type": "markdown",
   "metadata": {},
   "source": [
    "Is ``x_train`` an np.array?"
   ]
  },
  {
   "cell_type": "code",
   "execution_count": 15,
   "metadata": {},
   "outputs": [
    {
     "data": {
      "text/plain": [
       "numpy.ndarray"
      ]
     },
     "execution_count": 15,
     "metadata": {},
     "output_type": "execute_result"
    }
   ],
   "source": [
    "# Check type of x_train\n",
    "type(x_train)"
   ]
  },
  {
   "cell_type": "markdown",
   "metadata": {},
   "source": [
    "Yup, ``x_train`` is an np.array"
   ]
  },
  {
   "cell_type": "markdown",
   "metadata": {},
   "source": [
    "Is ``x_train`` in the shape required by the network?"
   ]
  },
  {
   "cell_type": "code",
   "execution_count": 16,
   "metadata": {},
   "outputs": [
    {
     "data": {
      "text/plain": [
       "(60000, 28, 28)"
      ]
     },
     "execution_count": 16,
     "metadata": {},
     "output_type": "execute_result"
    }
   ],
   "source": [
    "# Check shape of x_train\n",
    "x_train.shape"
   ]
  },
  {
   "cell_type": "markdown",
   "metadata": {},
   "source": [
    "Clearly not.\n",
    "\n",
    "We need to reshape this matrix to $60000{\\times}784$."
   ]
  },
  {
   "cell_type": "code",
   "execution_count": 17,
   "metadata": {},
   "outputs": [
    {
     "data": {
      "text/plain": [
       "(60000, 784)"
      ]
     },
     "execution_count": 17,
     "metadata": {},
     "output_type": "execute_result"
    }
   ],
   "source": [
    "# Reshaping x_train and x_test for our network with 784 inputs neurons\n",
    "x_train = np.reshape(x_train, (len(x_train), 784))\n",
    "x_test = np.reshape(x_test, (len(x_test), 784))\n",
    "\n",
    "# Check the dimensions\n",
    "x_train.shape"
   ]
  },
  {
   "cell_type": "markdown",
   "metadata": {},
   "source": [
    "Now our input is in the right format and shape."
   ]
  },
  {
   "cell_type": "markdown",
   "metadata": {},
   "source": [
    "## Are our inputs normalized?\n",
    "\n",
    "Remember that we had decided to limit the range of values for the input to 0-1."
   ]
  },
  {
   "cell_type": "markdown",
   "metadata": {},
   "source": [
    "Are all the values of ``x_train`` between 0 and 1?"
   ]
  },
  {
   "cell_type": "code",
   "execution_count": 18,
   "metadata": {},
   "outputs": [
    {
     "name": "stdout",
     "output_type": "stream",
     "text": [
      "Values in x_train lie between 0 and 255\n"
     ]
    }
   ],
   "source": [
    "# Check range of values of x_train\n",
    "print(\"Values in x_train lie between \"+str(np.min(x_train))+\" and \"+str(np.max(np.max(x_train))))"
   ]
  },
  {
   "cell_type": "markdown",
   "metadata": {},
   "source": [
    "Our inputs are images, their values range from 0 to 255. We need to bring them down to 0-1."
   ]
  },
  {
   "cell_type": "code",
   "execution_count": 19,
   "metadata": {
    "collapsed": true
   },
   "outputs": [],
   "source": [
    "# Normalize x_train\n",
    "x_train = x_train / 255.0\n",
    "x_test = x_test / 255.0"
   ]
  },
  {
   "cell_type": "code",
   "execution_count": 20,
   "metadata": {},
   "outputs": [
    {
     "name": "stdout",
     "output_type": "stream",
     "text": [
      "Values in x_train lie between 0.0 and 1.0\n"
     ]
    }
   ],
   "source": [
    "# Check range of values of x_train\n",
    "print(\"Values in x_train lie between \"+str(np.min(x_train))+\" and \"+str(np.max(np.max(x_train))))"
   ]
  },
  {
   "cell_type": "markdown",
   "metadata": {},
   "source": [
    "Perfect."
   ]
  },
  {
   "cell_type": "markdown",
   "metadata": {},
   "source": [
    "## Are our outputs in the right format and shape?"
   ]
  },
  {
   "cell_type": "markdown",
   "metadata": {},
   "source": [
    "Is ``y_train`` an np.array?"
   ]
  },
  {
   "cell_type": "code",
   "execution_count": 21,
   "metadata": {},
   "outputs": [
    {
     "data": {
      "text/plain": [
       "numpy.ndarray"
      ]
     },
     "execution_count": 21,
     "metadata": {},
     "output_type": "execute_result"
    }
   ],
   "source": [
    "# Check type of y_train\n",
    "type(y_train)"
   ]
  },
  {
   "cell_type": "markdown",
   "metadata": {},
   "source": [
    "Yup, ``y_train`` is an np.array"
   ]
  },
  {
   "cell_type": "markdown",
   "metadata": {},
   "source": [
    "Remember that we have 10 neurons in the output layer. That means our output needs to be of ${n{\\times}10}$ dimensions."
   ]
  },
  {
   "cell_type": "markdown",
   "metadata": {},
   "source": [
    "Is the shape of ``y_train`` $n{\\times}10$?"
   ]
  },
  {
   "cell_type": "code",
   "execution_count": 22,
   "metadata": {},
   "outputs": [
    {
     "data": {
      "text/plain": [
       "(60000,)"
      ]
     },
     "execution_count": 22,
     "metadata": {},
     "output_type": "execute_result"
    }
   ],
   "source": [
    "# Check shape of y_train\n",
    "y_train.shape"
   ]
  },
  {
   "cell_type": "markdown",
   "metadata": {},
   "source": [
    "Nope, ``y_train`` is of shape $60000{\\times}1$"
   ]
  },
  {
   "cell_type": "markdown",
   "metadata": {},
   "source": [
    "What are its values like?"
   ]
  },
  {
   "cell_type": "code",
   "execution_count": 23,
   "metadata": {},
   "outputs": [
    {
     "name": "stdout",
     "output_type": "stream",
     "text": [
      "5\n",
      "0\n",
      "4\n",
      "1\n",
      "9\n"
     ]
    }
   ],
   "source": [
    "for i in range(5):\n",
    "    print(y_train[i])"
   ]
  },
  {
   "cell_type": "markdown",
   "metadata": {},
   "source": [
    "So ``y_train`` carries the numbers of the digits the images represent."
   ]
  },
  {
   "cell_type": "markdown",
   "metadata": {},
   "source": [
    "We need to make a new binary array of $60000{\\times}10$ and insert a 1 in the column corresponding to the number of the digit its image shows.\n",
    "\n",
    "For example, the first row of our new y_train should look like $\\left[\\begin{array}{c}0&0&0&0&0&1&0&0&0&0\\end{array}\\right]$, since it represents 5. This is called one-hot encoding."
   ]
  },
  {
   "cell_type": "code",
   "execution_count": 24,
   "metadata": {
    "collapsed": true
   },
   "outputs": [],
   "source": [
    "# Make new y_train of nx10 elements\n",
    "new_y_train = np.zeros((len(y_train), 10))\n",
    "for i in range(len(y_train)):\n",
    "    new_y_train[i, y_train[i]] = 1"
   ]
  },
  {
   "cell_type": "code",
   "execution_count": 25,
   "metadata": {
    "collapsed": true
   },
   "outputs": [],
   "source": [
    "# Make new y_test of nx10 elements\n",
    "new_y_test = np.zeros((len(y_test), 10))\n",
    "for i in range(len(y_test)):\n",
    "    new_y_test[i, y_test[i]] = 1"
   ]
  },
  {
   "cell_type": "code",
   "execution_count": 26,
   "metadata": {},
   "outputs": [
    {
     "name": "stdout",
     "output_type": "stream",
     "text": [
      "[ 0.  0.  0.  0.  0.  1.  0.  0.  0.  0.]\n",
      "[ 0.  0.  0.  0.  0.  0.  0.  1.  0.  0.]\n"
     ]
    }
   ],
   "source": [
    "# Check first row of y_train\n",
    "print(new_y_train[0])\n",
    "print(new_y_test[0])"
   ]
  },
  {
   "cell_type": "markdown",
   "metadata": {},
   "source": [
    "Now that new_y_train is correctly shaped and formatted, let us reassign the name y_train to the matrix new_y_train."
   ]
  },
  {
   "cell_type": "code",
   "execution_count": 27,
   "metadata": {
    "collapsed": true
   },
   "outputs": [],
   "source": [
    "# Reassign the name \"y_train\" to new_y_train\n",
    "y_train = new_y_train\n",
    "y_test = new_y_test"
   ]
  },
  {
   "cell_type": "markdown",
   "metadata": {},
   "source": [
    "## Initialize the network"
   ]
  },
  {
   "cell_type": "code",
   "execution_count": 28,
   "metadata": {
    "collapsed": true
   },
   "outputs": [],
   "source": [
    "# Initialize network\n",
    "layers = [784, 15, 10]\n",
    "weights = initializeWeights(layers)\n",
    "\n",
    "# Take backup of weights to be used later for comparison\n",
    "initialWeights = [np.array(w) for w in weights]"
   ]
  },
  {
   "cell_type": "code",
   "execution_count": 29,
   "metadata": {},
   "outputs": [
    {
     "data": {
      "text/plain": [
       "'\\nprint(\"weights:\")\\nfor i in range(len(weights)):\\n    print(i+1); print(weights[i].shape); print(weights[i])\\n'"
      ]
     },
     "execution_count": 29,
     "metadata": {},
     "output_type": "execute_result"
    }
   ],
   "source": [
    "# Please don't print the weights\n",
    "# There are 15*784=11760 weights in the first layer,\n",
    "# + 10*15=150 weights in the second layer\n",
    "'''\n",
    "print(\"weights:\")\n",
    "for i in range(len(weights)):\n",
    "    print(i+1); print(weights[i].shape); print(weights[i])\n",
    "'''\n"
   ]
  },
  {
   "cell_type": "markdown",
   "metadata": {},
   "source": [
    "## Train the network\n",
    "\n",
    "Use the proper inputs ``x_train`` and ``y_train`` to train your neural network."
   ]
  },
  {
   "cell_type": "markdown",
   "metadata": {},
   "source": [
    "How many iterations do you want to perform? How much should be the learning rate? Should it be adaptive? How many neurons per layer?"
   ]
  },
  {
   "cell_type": "markdown",
   "metadata": {},
   "source": [
    "Remember that there are 60,000 images in the training set."
   ]
  },
  {
   "cell_type": "code",
   "execution_count": 30,
   "metadata": {},
   "outputs": [
    {
     "name": "stdout",
     "output_type": "stream",
     "text": [
      "Iteration 1 of 1\n",
      "Cost: 1.97857726345\n",
      "Time: 3.7738959789276123 seconds\n"
     ]
    }
   ],
   "source": [
    "# Train the network using Gradient Descent\n",
    "# Let's check how much time it takes for 1 iteration\n",
    "\n",
    "# Set options\n",
    "nIterations = 1\n",
    "learningRate = 1.0\n",
    "\n",
    "# Start time\n",
    "start = time.time()\n",
    "\n",
    "# Train\n",
    "trainUsingGD(weights, x_train, y_train, nIterations, learningRate)\n",
    "\n",
    "# End time\n",
    "end = time.time()\n",
    "\n",
    "print(\"Time: \"+str(end - start)+\" seconds\")"
   ]
  },
  {
   "cell_type": "markdown",
   "metadata": {
    "collapsed": true
   },
   "source": [
    "See how it takes SO LONG for just one iteration?"
   ]
  },
  {
   "cell_type": "markdown",
   "metadata": {},
   "source": [
    "**Problem: Batch Gradient Descent computes error, delta, etc. over the entire input data set**\n",
    "\n",
    "Solution: Don't change weights over the entire data set, repeatedly use a randomly sampled subset of the data set.\n",
    "\n",
    "This is called the Monte Carlo method, and in this case it has been developed into Stochastic Gradient Descent."
   ]
  },
  {
   "cell_type": "markdown",
   "metadata": {},
   "source": [
    "# Mini-batch Gradient Descent"
   ]
  },
  {
   "cell_type": "markdown",
   "metadata": {
    "collapsed": true
   },
   "source": [
    "We shall define a $minibatchSize$ lesser than the number of data points input to the network ($n$). Say $minibatchSize = 100$.\n",
    "\n",
    "**Mini-batch GD**:\n",
    "\n",
    "For every epoch:\n",
    "- randomly group the input data set into mini-batches of ($minibatchSize=$) 100 images:\n",
    "    - randomly shuffle the entire data set\n",
    "    - consider every 100 images as one mini-batch - so there are ``int(n/minibatchSize)`` number of mini-batches\n",
    "- use gradient descent on every mini-batch to update weights\n",
    "- Repeat.\n",
    "\n",
    "If $minibatchSize=n$, this is the same as Batch Gradient Descent.\n",
    "\n",
    "If $minibatchSize=1$, i.e. we update the weights after backpropagating for only one image, it is called **Stochastic Grdient Descent**."
   ]
  },
  {
   "cell_type": "markdown",
   "metadata": {},
   "source": [
    "So, at every iteration we are using gradient descent on only $minibatchSize$ number of images.\n",
    "\n",
    "Mathematical proofs exist on why this works better than gradient descent, under some assumptions (like stationarity, which holds true for our purposes)."
   ]
  },
  {
   "cell_type": "markdown",
   "metadata": {},
   "source": [
    "Let's code Mini-batch Gradient Descent:"
   ]
  },
  {
   "cell_type": "code",
   "execution_count": 43,
   "metadata": {
    "collapsed": true
   },
   "outputs": [],
   "source": [
    "# TRAINING USING MINI-BATCH GRADIENT DESCENT\n",
    "# Default learning rate = 1.0\n",
    "def trainUsingMinibatchGD(weights, X, Y, minibatchSize, nEpochs, learningRate=1.0):\n",
    "    # For nIterations number of iterations:\n",
    "    for i in range(nEpochs):\n",
    "        # clear output\n",
    "        #clear_output()\n",
    "        print(\"Epoch \"+str(i+1)+\" of \"+str(nEpochs))\n",
    "        \n",
    "        # Make a list of all the indices\n",
    "        fullIdx = list(range(len(Y)))\n",
    "        \n",
    "        # Shuffle the full index\n",
    "        np.random.shuffle(fullIdx)\n",
    "        \n",
    "        # Count number of mini-batches\n",
    "        nOfMinibatches = int(len(X)/minibatchSize)\n",
    "        \n",
    "        # For each mini-batch\n",
    "        for m in range(nOfMinibatches):\n",
    "            # Compute the starting index of this mini-batch\n",
    "            startIdx = m*minibatchSize\n",
    "            \n",
    "            # Declare sampled inputs and outputs\n",
    "            xSample = X[fullIdx[startIdx:startIdx+minibatchSize]]\n",
    "            ySample = Y[fullIdx[startIdx:startIdx+minibatchSize]]\n",
    "\n",
    "            # Run backprop\n",
    "            backProp(weights, xSample, ySample, learningRate)"
   ]
  },
  {
   "cell_type": "markdown",
   "metadata": {},
   "source": [
    "Using MinibatchGD, training upto the same accuracy should take lesser time than GD."
   ]
  },
  {
   "cell_type": "code",
   "execution_count": 44,
   "metadata": {
    "collapsed": true
   },
   "outputs": [],
   "source": [
    "# Initialize network\n",
    "layers = [784, 30, 10]\n",
    "weights = initializeWeights(layers)\n",
    "\n",
    "# Take backup of weights to be used later for comparison\n",
    "initialWeights = [np.array(w) for w in weights]"
   ]
  },
  {
   "cell_type": "code",
   "execution_count": 45,
   "metadata": {},
   "outputs": [
    {
     "name": "stdout",
     "output_type": "stream",
     "text": [
      "5570 out of 60000 : 0.09283333333333334\n"
     ]
    }
   ],
   "source": [
    "# Evaluate initial weights on training data\n",
    "evaluate(weights, x_train, y_train)"
   ]
  },
  {
   "cell_type": "code",
   "execution_count": 46,
   "metadata": {},
   "outputs": [
    {
     "name": "stdout",
     "output_type": "stream",
     "text": [
      "948 out of 10000 : 0.0948\n"
     ]
    }
   ],
   "source": [
    "# Evaluate initial weights on test data\n",
    "evaluate(weights, x_test, y_test)"
   ]
  },
  {
   "cell_type": "markdown",
   "metadata": {},
   "source": [
    "- Let's first use Batch Gradient Descent ($minibatchSize = size\\;of \\;full\\;input$) to evaluate the accuracy and time with one iteration "
   ]
  },
  {
   "cell_type": "code",
   "execution_count": 47,
   "metadata": {},
   "outputs": [
    {
     "name": "stdout",
     "output_type": "stream",
     "text": [
      "Epoch 1 of 1\n",
      "Training accuracy:\n",
      "5889 out of 60000 : 0.09815\n",
      "Test accuracy:\n",
      "1012 out of 10000 : 0.1012\n",
      "Time: 2.8622570037841797 seconds\n"
     ]
    }
   ],
   "source": [
    "# Train the network ONCE using Batch Gradient Descent to check accuracy and time\n",
    "\n",
    "# Re-initialize weights\n",
    "weights = [np.array(w) for w in initialWeights]\n",
    "\n",
    "# Set options for batch gradient descent\n",
    "minibatchSize = len(y_train)\n",
    "nEpochs = 1\n",
    "learningRate = 3.0\n",
    "\n",
    "# Start time\n",
    "start = time.time()\n",
    "\n",
    "# Train\n",
    "trainUsingMinibatchGD(weights, x_train, y_train, minibatchSize, nEpochs, learningRate)\n",
    "\n",
    "# End time\n",
    "end = time.time()\n",
    "\n",
    "# Evaluate accuracy\n",
    "print(\"Training accuracy:\")\n",
    "evaluate(weights, x_train, y_train)\n",
    "print(\"Test accuracy:\")\n",
    "evaluate(weights, x_test, y_test)\n",
    "\n",
    "# Print time taken\n",
    "print(\"Time: \"+str(end-start)+\" seconds\")"
   ]
  },
  {
   "cell_type": "markdown",
   "metadata": {},
   "source": [
    "- Okay, let's check with Stochastic Gradient Descent, i.e. $minibatchSize = 1$"
   ]
  },
  {
   "cell_type": "code",
   "execution_count": 48,
   "metadata": {},
   "outputs": [
    {
     "name": "stdout",
     "output_type": "stream",
     "text": [
      "Epoch 1 of 1\n",
      "Training accuracy:\n",
      "44816 out of 60000 : 0.7469333333333333\n",
      "Test accuracy:\n",
      "7539 out of 10000 : 0.7539\n",
      "Time: 21.746292114257812 seconds\n"
     ]
    }
   ],
   "source": [
    "# Train the network ONCE using Stochastic Gradient Descent to check accuracy and time\n",
    "\n",
    "# Re-initialize weights\n",
    "weights = [np.array(w) for w in initialWeights]\n",
    "\n",
    "# Set options of stochastic gradient descent\n",
    "minibatchSize = 1\n",
    "nEpochs = 1\n",
    "learningRate = 3.0\n",
    "\n",
    "# Start time\n",
    "start = time.time()\n",
    "\n",
    "# Train\n",
    "trainUsingMinibatchGD(weights, x_train, y_train, minibatchSize, nEpochs, learningRate)\n",
    "\n",
    "# End time\n",
    "end = time.time()\n",
    "\n",
    "# Evaluate accuracy\n",
    "print(\"Training accuracy:\")\n",
    "evaluate(weights, x_train, y_train)\n",
    "print(\"Test accuracy:\")\n",
    "evaluate(weights, x_test, y_test)\n",
    "\n",
    "# Print time taken\n",
    "print(\"Time: \"+str(end-start)+\" seconds\")"
   ]
  },
  {
   "cell_type": "markdown",
   "metadata": {},
   "source": [
    "Stochastic Gradient Descent took more time, but gave much better accuracy in just 1 epoch."
   ]
  },
  {
   "cell_type": "markdown",
   "metadata": {},
   "source": [
    "- Let's now check for Mini-batch Gradient Descent, with $minibatchSize = $ (say) $10$"
   ]
  },
  {
   "cell_type": "code",
   "execution_count": 49,
   "metadata": {},
   "outputs": [
    {
     "name": "stdout",
     "output_type": "stream",
     "text": [
      "Epoch 1 of 1\n",
      "Training accuracy:\n",
      "52428 out of 60000 : 0.8738\n",
      "Test accuracy:\n",
      "8752 out of 10000 : 0.8752\n",
      "Time: 4.0647711753845215 seconds\n"
     ]
    }
   ],
   "source": [
    "# Train the network ONCE using Mini-batch Gradient Descent to check accuracy and time\n",
    "\n",
    "# Re-initialize weights\n",
    "weights = [np.array(w) for w in initialWeights]\n",
    "\n",
    "# Set options of mini-batch gradient descent\n",
    "minibatchSize = 10\n",
    "nEpochs = 1\n",
    "learningRate = 3.0\n",
    "\n",
    "# Start time\n",
    "start = time.time()\n",
    "\n",
    "# Train\n",
    "trainUsingMinibatchGD(weights, x_train, y_train, minibatchSize, nEpochs, learningRate)\n",
    "\n",
    "# End time\n",
    "end = time.time()\n",
    "\n",
    "# Evaluate accuracy\n",
    "print(\"Training accuracy:\")\n",
    "evaluate(weights, x_train, y_train)\n",
    "print(\"Test accuracy:\")\n",
    "evaluate(weights, x_test, y_test)\n",
    "\n",
    "# Print time taken\n",
    "print(\"Time: \"+str(end-start)+\" seconds\")"
   ]
  },
  {
   "cell_type": "markdown",
   "metadata": {},
   "source": [
    "Thus, (in 1 epoch) Mini-batch Gradient descent gives comparable accuracy to Stochastic Gradient Descent, which is much better than the accuracy given by Batch Gradient Descent, in much lesser time."
   ]
  },
  {
   "cell_type": "markdown",
   "metadata": {},
   "source": [
    "## Classifying MNIST data set\n",
    "\n",
    "Let us try to classify the MNIST data set up to more than 99%. This means deciding the number of layers, size of each layer, number of Epochs, the mini-batch size, and the learning (constant, for now).\n",
    "\n",
    "Let us try, $layers = [784$ (input layer, because each MNIST image is 28$x$28)$, 30$ (hidden layer)$, 10$ (outputs layer, one neuron for each digit)$], nEpochs = 30, minibatchSize = 10, learningRate = 3.0$"
   ]
  },
  {
   "cell_type": "code",
   "execution_count": 55,
   "metadata": {},
   "outputs": [
    {
     "name": "stdout",
     "output_type": "stream",
     "text": [
      "Epoch 1 of 50\n",
      "Epoch 2 of 50\n",
      "Epoch 3 of 50\n",
      "Epoch 4 of 50\n",
      "Epoch 5 of 50\n",
      "Epoch 6 of 50\n",
      "Epoch 7 of 50\n",
      "Epoch 8 of 50\n",
      "Epoch 9 of 50\n",
      "Epoch 10 of 50\n",
      "Epoch 11 of 50\n",
      "Epoch 12 of 50\n",
      "Epoch 13 of 50\n",
      "Epoch 14 of 50\n",
      "Epoch 15 of 50\n",
      "Epoch 16 of 50\n",
      "Epoch 17 of 50\n",
      "Epoch 18 of 50\n",
      "Epoch 19 of 50\n",
      "Epoch 20 of 50\n",
      "Epoch 21 of 50\n",
      "Epoch 22 of 50\n",
      "Epoch 23 of 50\n",
      "Epoch 24 of 50\n",
      "Epoch 25 of 50\n",
      "Epoch 26 of 50\n",
      "Epoch 27 of 50\n",
      "Epoch 28 of 50\n",
      "Epoch 29 of 50\n",
      "Epoch 30 of 50\n",
      "Epoch 31 of 50\n",
      "Epoch 32 of 50\n",
      "Epoch 33 of 50\n",
      "Epoch 34 of 50\n",
      "Epoch 35 of 50\n",
      "Epoch 36 of 50\n",
      "Epoch 37 of 50\n",
      "Epoch 38 of 50\n",
      "Epoch 39 of 50\n",
      "Epoch 40 of 50\n",
      "Epoch 41 of 50\n",
      "Epoch 42 of 50\n",
      "Epoch 43 of 50\n",
      "Epoch 44 of 50\n",
      "Epoch 45 of 50\n",
      "Epoch 46 of 50\n",
      "Epoch 47 of 50\n",
      "Epoch 48 of 50\n",
      "Epoch 49 of 50\n",
      "Epoch 50 of 50\n",
      "Training accuracy:\n",
      "58180 out of 60000 : 0.9696666666666667\n",
      "Test accuracy:\n",
      "9397 out of 10000 : 0.9397\n"
     ]
    }
   ],
   "source": [
    "# TRAIN A NETWORK TO CLASSIFY MNIST\n",
    "\n",
    "# Initialize network\n",
    "layers = [784, 30, 10]\n",
    "weights = initializeWeights(layers)\n",
    "\n",
    "# Take backup of weights to be used later for comparison\n",
    "initialWeights = [np.array(w) for w in weights]\n",
    "\n",
    "# Set options of mini-batch gradient descent\n",
    "minibatchSize = 10\n",
    "nEpochs = 50\n",
    "learningRate = 3.0\n",
    "\n",
    "# Train\n",
    "trainUsingMinibatchGD(weights, x_train, y_train, minibatchSize, nEpochs, learningRate)\n",
    "\n",
    "# Evaluate accuracy\n",
    "print(\"Training accuracy:\")\n",
    "evaluate(weights, x_train, y_train)\n",
    "print(\"Test accuracy:\")\n",
    "evaluate(weights, x_test, y_test)"
   ]
  },
  {
   "cell_type": "markdown",
   "metadata": {},
   "source": [
    "About 93%-95%.. What if we increase the mini-batch size?"
   ]
  },
  {
   "cell_type": "code",
   "execution_count": 59,
   "metadata": {},
   "outputs": [
    {
     "name": "stdout",
     "output_type": "stream",
     "text": [
      "Epoch 1 of 10\n",
      "Epoch 2 of 10\n",
      "Epoch 3 of 10\n",
      "Epoch 4 of 10\n",
      "Epoch 5 of 10\n",
      "Epoch 6 of 10\n",
      "Epoch 7 of 10\n",
      "Epoch 8 of 10\n",
      "Epoch 9 of 10\n",
      "Epoch 10 of 10\n",
      "Training accuracy:\n",
      "53245 out of 60000 : 0.8874166666666666\n",
      "Test accuracy:\n",
      "8846 out of 10000 : 0.8846\n"
     ]
    }
   ],
   "source": [
    "# TRAIN A NETWORK TO CLASSIFY MNIST\n",
    "\n",
    "# Initialize network\n",
    "layers = [784, 10, 10, 10]\n",
    "weights = initializeWeights(layers)\n",
    "\n",
    "# Take backup of weights to be used later for comparison\n",
    "initialWeights = [np.array(w) for w in weights]\n",
    "\n",
    "# Set options of mini-batch gradient descent\n",
    "minibatchSize = 10\n",
    "nEpochs = 30\n",
    "learningRate = 3.0\n",
    "\n",
    "# Train\n",
    "trainUsingMinibatchGD(weights, x_train, y_train, minibatchSize, nEpochs, learningRate)\n",
    "\n",
    "# Evaluate accuracy\n",
    "print(\"Training accuracy:\")\n",
    "evaluate(weights, x_train, y_train)\n",
    "print(\"Test accuracy:\")\n",
    "evaluate(weights, x_test, y_test)"
   ]
  },
  {
   "cell_type": "markdown",
   "metadata": {
    "collapsed": true
   },
   "source": [
    "## Coming up next\n",
    "\n",
    "In the next tutorial, we shall see the different types of optimizations that can be done in gradient descent, and compare their performances."
   ]
  }
 ],
 "metadata": {
  "kernelspec": {
   "display_name": "Python 3",
   "language": "python",
   "name": "python3"
  },
  "language_info": {
   "codemirror_mode": {
    "name": "ipython",
    "version": 3
   },
   "file_extension": ".py",
   "mimetype": "text/x-python",
   "name": "python",
   "nbconvert_exporter": "python",
   "pygments_lexer": "ipython3",
   "version": "3.5.1"
  }
 },
 "nbformat": 4,
 "nbformat_minor": 2
}
